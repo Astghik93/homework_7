{
 "cells": [
  {
   "cell_type": "code",
   "execution_count": 1,
   "metadata": {
    "collapsed": true
   },
   "outputs": [],
   "source": [
    "from selenium import webdriver\n",
    "browser = webdriver.Chrome()\n",
    "url = 'https://staff.am/en'\n",
    "browser.get(url)"
   ]
  },
  {
   "cell_type": "code",
   "execution_count": 5,
   "metadata": {
    "collapsed": true
   },
   "outputs": [],
   "source": [
    "training_prices=browser.find_element_by_xpath('//*[@id=\"menu-header\"]/li[2]/a')\n",
    "training_prices.click()"
   ]
  },
  {
   "cell_type": "code",
   "execution_count": 6,
   "metadata": {
    "collapsed": true
   },
   "outputs": [],
   "source": [
    "training=browser.page_source"
   ]
  },
  {
   "cell_type": "code",
   "execution_count": 12,
   "metadata": {
    "collapsed": true
   },
   "outputs": [],
   "source": [
    "next_page= browser.find_element_by_xpath('//*[@id=\"job-list-pagination\"]/ul/li[3]/a')\n",
    "next_page.click()"
   ]
  },
  {
   "cell_type": "code",
   "execution_count": 13,
   "metadata": {
    "collapsed": true
   },
   "outputs": [],
   "source": [
    "next1=browser.page_source"
   ]
  },
  {
   "cell_type": "code",
   "execution_count": 16,
   "metadata": {
    "collapsed": true
   },
   "outputs": [],
   "source": [
    "next_page1 = browser.find_element_by_xpath('//*[@id=\"job-list-pagination\"]/ul/li[4]/a')\n",
    "next_page1.click()"
   ]
  },
  {
   "cell_type": "code",
   "execution_count": 17,
   "metadata": {
    "collapsed": true
   },
   "outputs": [],
   "source": [
    "next2=browser.page_source"
   ]
  },
  {
   "cell_type": "code",
   "execution_count": 18,
   "metadata": {
    "collapsed": true
   },
   "outputs": [],
   "source": [
    "browser.close()"
   ]
  },
  {
   "cell_type": "code",
   "execution_count": 19,
   "metadata": {
    "collapsed": true
   },
   "outputs": [],
   "source": [
    "list_of_links=[training,next1,next2]"
   ]
  },
  {
   "cell_type": "code",
   "execution_count": 20,
   "metadata": {
    "collapsed": true
   },
   "outputs": [],
   "source": [
    "import re"
   ]
  },
  {
   "cell_type": "code",
   "execution_count": 21,
   "metadata": {
    "collapsed": true
   },
   "outputs": [],
   "source": [
    "from BeautifulSoup import *"
   ]
  },
  {
   "cell_type": "code",
   "execution_count": 29,
   "metadata": {},
   "outputs": [
    {
     "name": "stdout",
     "output_type": "stream",
     "text": [
      "[57500, 0, 84000, 48000, 50000, 69000, 0, 0, 0, 0, 0, 0, 0, 73000, 52000, 96000, 45000, 96000, 125000, 4800, 0, 0, 0]\n"
     ]
    }
   ],
   "source": [
    "training_list=[]\n",
    "for i in list_of_links:\n",
    "    link = BeautifulSoup(i)\n",
    "    prices = link.findAll(\"div\", attrs={'class':\"training-price job-inner\"})\n",
    "    for price in prices:\n",
    "        if price.text == \"Price:                                        FREE\":\n",
    "            i = 0\n",
    "            training_list.append(i)\n",
    "        else:\n",
    "            a = re.findall(\"([0-9]+\\S+)AMD\", price.text)\n",
    "            b= int(re.sub(r',', r'',str(a[0])))\n",
    "            training_list.append(b)\n",
    "print training_list"
   ]
  },
  {
   "cell_type": "code",
   "execution_count": 31,
   "metadata": {
    "collapsed": true
   },
   "outputs": [],
   "source": [
    "sum=0\n",
    "for i in training_list:\n",
    "    price1=float(i)\n",
    "    sum=sum+price1"
   ]
  },
  {
   "cell_type": "code",
   "execution_count": 32,
   "metadata": {
    "collapsed": true
   },
   "outputs": [],
   "source": [
    "average_price=sum/len(training_list)"
   ]
  },
  {
   "cell_type": "code",
   "execution_count": 33,
   "metadata": {},
   "outputs": [
    {
     "name": "stdout",
     "output_type": "stream",
     "text": [
      "34795.6521739\n"
     ]
    }
   ],
   "source": [
    "print(average_price)"
   ]
  }
 ],
 "metadata": {
  "kernelspec": {
   "display_name": "Python 2",
   "language": "python",
   "name": "python2"
  },
  "language_info": {
   "codemirror_mode": {
    "name": "ipython",
    "version": 2
   },
   "file_extension": ".py",
   "mimetype": "text/x-python",
   "name": "python",
   "nbconvert_exporter": "python",
   "pygments_lexer": "ipython2",
   "version": "2.7.13"
  }
 },
 "nbformat": 4,
 "nbformat_minor": 2
}
